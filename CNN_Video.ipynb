{
  "nbformat": 4,
  "nbformat_minor": 0,
  "metadata": {
    "colab": {
      "name": "CNN_Video (2).ipynb",
      "provenance": [],
      "collapsed_sections": []
    },
    "kernelspec": {
      "name": "python3",
      "display_name": "Python 3"
    },
    "accelerator": "GPU"
  },
  "cells": [
    {
      "cell_type": "code",
      "metadata": {
        "colab": {
          "base_uri": "https://localhost:8080/"
        },
        "id": "4VlvGDUjMOlV",
        "outputId": "b67558d4-d117-4fff-cfb9-cd1a0f0f3079"
      },
      "source": [
        "! sudo pip install scikit-video"
      ],
      "execution_count": 85,
      "outputs": [
        {
          "output_type": "stream",
          "text": [
            "Requirement already satisfied: scikit-video in /usr/local/lib/python3.6/dist-packages (1.1.11)\n",
            "Requirement already satisfied: scipy in /usr/local/lib/python3.6/dist-packages (from scikit-video) (1.4.1)\n",
            "Requirement already satisfied: numpy in /usr/local/lib/python3.6/dist-packages (from scikit-video) (1.19.5)\n",
            "Requirement already satisfied: pillow in /usr/local/lib/python3.6/dist-packages (from scikit-video) (7.0.0)\n"
          ],
          "name": "stdout"
        }
      ]
    },
    {
      "cell_type": "code",
      "metadata": {
        "id": "KU-EXO-Ls4I0"
      },
      "source": [
        "from keras.preprocessing.image import load_img, img_to_array\r\n",
        "from keras.layers import Dropout\r\n",
        "from keras import backend as K\r\n",
        "import keras\r\n",
        "from keras.applications.resnet50 import ResNet50, preprocess_input\r\n",
        "from keras import models\r\n",
        "from keras.models import Model, Sequential\r\n",
        "from keras.layers import Input, Flatten, Dense, BatchNormalization\r\n",
        "from keras.preprocessing import image\r\n",
        "from keras.utils import np_utils\r\n",
        "from sklearn.model_selection import train_test_split\r\n",
        "from matplotlib import pyplot as plt\r\n",
        "import numpy as np\r\n",
        "import pandas as pd\r\n",
        "import cv2\r\n",
        "import os\r\n",
        "from google.colab import drive\r\n",
        "from zipfile import ZipFile\r\n",
        "from skimage.transform import resize\r\n",
        "import skvideo.io"
      ],
      "execution_count": null,
      "outputs": []
    },
    {
      "cell_type": "code",
      "metadata": {
        "colab": {
          "base_uri": "https://localhost:8080/"
        },
        "id": "Eu_1E3F2uwGe",
        "outputId": "36f90de1-f128-421f-ef42-285c8b272f46"
      },
      "source": [
        "drive.mount('/content/drive/', force_remount=True)\r\n",
        "# file_path = '/content/drive/MyDrive/NUSFPID_FirstPerson_dataset.zip'\r\n",
        "# with ZipFile(file_path, 'r') as zip_ref:\r\n",
        "#     zip_ref.extractall('/content/drive/MyDrive/data')"
      ],
      "execution_count": null,
      "outputs": [
        {
          "output_type": "stream",
          "text": [
            "Mounted at /content/drive/\n"
          ],
          "name": "stdout"
        }
      ]
    },
    {
      "cell_type": "code",
      "metadata": {
        "id": "l3Pf6RBmu9sd"
      },
      "source": [
        "def make_data():\r\n",
        "  data_dir = '/content/drive/MyDrive/data/NUSFPID_FirstPerson_dataset'\r\n",
        "  categories = ['cell', 'door', 'pass', 'shake', 'throw', 'type', 'wave', 'write']\r\n",
        "# LOAD BASE MODEL FROM RESNET50 AND USE IT FOR FEATURE EXTRACTION\r\n",
        "  base_model = ResNet50(weights='imagenet')\r\n",
        "  model_ex = Model(inputs=base_model.input, outputs=base_model.get_layer('conv5_block3_out').output)\r\n",
        "# LAYER'S OUTPUT SIZE = (100532)\r\n",
        "  img_size = (100352,)\r\n",
        "  pool_max = np.empty(img_size)\r\n",
        "  pool_mean = np.empty(img_size)\r\n",
        "  feature_arr = []\r\n",
        "  X_train = []\r\n",
        "  Y_train = []\r\n",
        "  X_test = []\r\n",
        "  Y_test = []\r\n",
        "# READ VIDEOS FROM EACH FOLDER AS CLASS\r\n",
        "  for label in categories:\r\n",
        "    path = os.path.join(data_dir, label)      \r\n",
        "    class_num = categories.index(label)\r\n",
        "    class_num = np_utils.to_categorical(class_num, 8)\r\n",
        "    \r\n",
        "    feature = []\r\n",
        "    # READ & CONVERT EACH VIDEO TO AN IMAGE ARRAY\r\n",
        "    for video in os.listdir(path):\r\n",
        "      pool_max = np.zeros(img_size)\r\n",
        "      pool_mean = np.zeros(img_size)\r\n",
        "      # CONVERT VIDEO TO FRAMES WITH SIZE (224,224,3)\r\n",
        "      video_data = skvideo.io.vread(os.path.join(path,video), height=224, width=224)\r\n",
        "      for fr in video_data:\r\n",
        "        fr = np.expand_dims(fr, axis=0)\r\n",
        "        # FAETURE EXTRACTION FOR EACH FRAME\r\n",
        "        fp = model_ex.predict(fr)\r\n",
        "        # MAX & MEAN POOLING FOR EACH VIDEO\r\n",
        "        frame = fp.flatten()\r\n",
        "        # pool_max = np.maximum(frame, pool_max)\r\n",
        "        df = pd.DataFrame([[frame],[pool_mean]]) \r\n",
        "        pool_mean = np.mean(df[0])\r\n",
        "      feature.append(pool_mean)\r\n",
        "      # feature.append(pool_max)\r\n",
        "      print(len(feature))\r\n",
        "    # PREPARE DESIERDE OUTPUT\r\n",
        "    y_tr = [class_num]*len(feature)\r\n",
        "    x_train, x_test, y_train, y_test = train_test_split(feature, y_tr, test_size=0.5)\r\n",
        "    X_train.extend(x_train)\r\n",
        "    Y_train.extend(y_train)\r\n",
        "    X_test.extend(x_test)\r\n",
        "    Y_test.extend(y_test)\r\n",
        "\r\n",
        "    del feature\r\n",
        "  return X_train, Y_train, X_test, Y_test\r\n"
      ],
      "execution_count": 86,
      "outputs": []
    },
    {
      "cell_type": "code",
      "metadata": {
        "id": "MMjfXJZhcpmf"
      },
      "source": [
        "X_tr, Y_train, X_ts, Y_test = make_data()"
      ],
      "execution_count": null,
      "outputs": []
    },
    {
      "cell_type": "code",
      "metadata": {
        "id": "r56EoLm16Lnz"
      },
      "source": [
        "X_train = np.array(X_tr).astype('float32')/255\r\n",
        "X_test = np.array(X_ts).astype('float32')/255\r\n",
        "Y_train = np.array(Y_train).astype('float32')/255\r\n",
        "Y_test = np.array(Y_test).astype('float32')/255\r\n"
      ],
      "execution_count": 89,
      "outputs": []
    },
    {
      "cell_type": "code",
      "metadata": {
        "id": "siJ9x_yOYabq",
        "colab": {
          "base_uri": "https://localhost:8080/",
          "height": 356
        },
        "outputId": "247c1a45-de67-4fca-8a24-8ae2b1f3cef7"
      },
      "source": [
        "# FULLY CONNECTED LAYER FOR MODEL\r\n",
        "model = Sequential()\r\n",
        "\r\n",
        "model.add(Flatten())\r\n",
        "model.add(Dropout(0.3))\r\n",
        "model.add(BatchNormalization())\r\n",
        "model.add(Dense(1024, activation='relu'))\r\n",
        "model.add(BatchNormalization())\r\n",
        "model.add(Dropout(0.2))\r\n",
        "model.add(Dense(512, activation='relu'))\r\n",
        "model.add(BatchNormalization())\r\n",
        "model.add(Dense(8, activation='softmax'))\r\n",
        "\r\n",
        "model.compile(optimizer='RMSProp', loss='categorical_crossentropy', metrics=['accuracy'])\r\n",
        "K.set_value(model.optimizer.learning_rate, 0.6)\r\n",
        "\r\n",
        "history =  model.fit(X_train, Y_train, epochs=100,  verbose=0)\r\n",
        "# PLOT ACCURACY & LOSS\r\n",
        "fig ,(p1, p2) = plt.subplots(nrows=1, ncols=2, constrained_layout=False)\r\n",
        "p1.plot(history.history['accuracy'], color='blue', label='accuracy')\r\n",
        "p1.legend('Accuracy')\r\n",
        "p2.legend('Loss')\r\n",
        "p2.plot(history.history['loss'], color='red', label='loss')\r\n",
        "fig.show\r\n",
        "\r\n",
        "score = model.evaluate(X_test, Y_test)\r\n",
        "print('\\n', 'Test accuracy:', score[1])"
      ],
      "execution_count": 98,
      "outputs": [
        {
          "output_type": "stream",
          "text": [
            "WARNING:tensorflow:5 out of the last 13 calls to <function Model.make_test_function.<locals>.test_function at 0x7f5f929e0400> triggered tf.function retracing. Tracing is expensive and the excessive number of tracings could be due to (1) creating @tf.function repeatedly in a loop, (2) passing tensors with different shapes, (3) passing Python objects instead of tensors. For (1), please define your @tf.function outside of the loop. For (2), @tf.function has experimental_relax_shapes=True option that relaxes argument shapes that can avoid unnecessary retracing. For (3), please refer to https://www.tensorflow.org/guide/function#controlling_retracing and https://www.tensorflow.org/api_docs/python/tf/function for  more details.\n",
            "3/3 [==============================] - 0s 13ms/step - loss: 324.8393 - accuracy: 0.1282\n",
            "\n",
            " Test accuracy: 0.12820513546466827\n"
          ],
          "name": "stdout"
        },
        {
          "output_type": "display_data",
          "data": {
            "image/png": "[encoded data removed]",
            "text/plain": [
              "<Figure size 432x288 with 2 Axes>"
            ]
          },
          "metadata": {
            "tags": [],
            "needs_background": "light"
          }
        }
      ]
    },
    {
      "cell_type": "code",
      "metadata": {
        "id": "X1HhEoPBX9p0",
        "colab": {
          "base_uri": "https://localhost:8080/",
          "height": 289
        },
        "outputId": "bca4244e-8529-4d5c-f510-a1b804d47502"
      },
      "source": [
        "def plot_feature():\r\n",
        "  base_model = ResNet50(weights='imagenet')\r\n",
        "  model = Model(inputs=base_model.input, outputs=base_model.get_layer('conv5_block3_out').output)\r\n",
        "\r\n",
        "  video_data = skvideo.io.vread(\"/content/drive/MyDrive/data/NUSFPID_FirstPerson_dataset/cell/01.mp4\", height=224, width=224)  \r\n",
        "\r\n",
        "  x = video_data[200,:,:,:]\r\n",
        "  x = image.img_to_array(x)\r\n",
        "  x = np.expand_dims(x, axis=0)\r\n",
        "  features = model.predict(x)\r\n",
        "\r\n",
        "  square = 8\r\n",
        "  ix = 1\r\n",
        "  for _ in range(square):\r\n",
        "    for _ in range(square):\r\n",
        "      ax = plt.subplot(square, square, ix)\r\n",
        "      ax.set_xticks([])\r\n",
        "      ax.set_yticks([])\r\n",
        "      plt.imshow(features[0, :, :, ix-1])\r\n",
        "      ix += 1\r\n",
        "  plt.show()\r\n",
        "\r\n",
        "plot_feature()"
      ],
      "execution_count": null,
      "outputs": [
        {
          "output_type": "stream",
          "text": [
            "WARNING:tensorflow:5 out of the last 26432 calls to <function Model.make_predict_function.<locals>.predict_function at 0x7f5f989acea0> triggered tf.function retracing. Tracing is expensive and the excessive number of tracings could be due to (1) creating @tf.function repeatedly in a loop, (2) passing tensors with different shapes, (3) passing Python objects instead of tensors. For (1), please define your @tf.function outside of the loop. For (2), @tf.function has experimental_relax_shapes=True option that relaxes argument shapes that can avoid unnecessary retracing. For (3), please refer to https://www.tensorflow.org/guide/function#controlling_retracing and https://www.tensorflow.org/api_docs/python/tf/function for  more details.\n"
          ],
          "name": "stdout"
        },
        {
          "output_type": "display_data",
          "data": {
            "image/png": "[encoded data removed]",
            "text/plain": [
              "<Figure size 432x288 with 64 Axes>"
            ]
          },
          "metadata": {
            "tags": []
          }
        }
      ]
    }
  ]
}